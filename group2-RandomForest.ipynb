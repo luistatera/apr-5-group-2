{
 "cells": [
  {
   "cell_type": "code",
   "execution_count": null,
   "metadata": {},
   "outputs": [
    {
     "name": "stdout",
     "output_type": "stream",
     "text": [
      "<class 'pandas.core.frame.DataFrame'>\n",
      "RangeIndex: 640840 entries, 0 to 640839\n",
      "Data columns (total 10 columns):\n",
      " #   Column               Non-Null Count   Dtype \n",
      "---  ------               --------------   ----- \n",
      " 0   Unnamed: 0           640840 non-null  int64 \n",
      " 1   store_ID             640840 non-null  int64 \n",
      " 2   day_of_week          640840 non-null  int64 \n",
      " 3   date                 640840 non-null  object\n",
      " 4   nb_customers_on_day  640840 non-null  int64 \n",
      " 5   open                 640840 non-null  int64 \n",
      " 6   promotion            640840 non-null  int64 \n",
      " 7   state_holiday        640840 non-null  object\n",
      " 8   school_holiday       640840 non-null  int64 \n",
      " 9   sales                640840 non-null  int64 \n",
      "dtypes: int64(8), object(2)\n",
      "memory usage: 48.9+ MB\n"
     ]
    },
    {
     "data": {
      "application/vnd.microsoft.datawrangler.viewer.v0+json": {
       "columns": [
        {
         "name": "index",
         "rawType": "object",
         "type": "string"
        },
        {
         "name": "Unnamed: 0",
         "rawType": "float64",
         "type": "float"
        },
        {
         "name": "store_ID",
         "rawType": "float64",
         "type": "float"
        },
        {
         "name": "day_of_week",
         "rawType": "float64",
         "type": "float"
        },
        {
         "name": "nb_customers_on_day",
         "rawType": "float64",
         "type": "float"
        },
        {
         "name": "open",
         "rawType": "float64",
         "type": "float"
        },
        {
         "name": "promotion",
         "rawType": "float64",
         "type": "float"
        },
        {
         "name": "school_holiday",
         "rawType": "float64",
         "type": "float"
        },
        {
         "name": "sales",
         "rawType": "float64",
         "type": "float"
        }
       ],
       "conversionMethod": "pd.DataFrame",
       "ref": "d1e6c407-26ae-48ae-ad70-037f27b9333a",
       "rows": [
        [
         "count",
         "640840.0",
         "640840.0",
         "640840.0",
         "640840.0",
         "640840.0",
         "640840.0",
         "640840.0",
         "640840.0"
        ],
        [
         "mean",
         "355990.6750842644",
         "558.2113476062668",
         "4.000188814680731",
         "633.3985768678609",
         "0.8301853816865364",
         "0.38171774545908493",
         "0.17847200549279071",
         "5777.469010985581"
        ],
        [
         "std",
         "205536.2902679726",
         "321.87852116921664",
         "1.9964776747399233",
         "464.09441563457324",
         "0.37547015022470204",
         "0.4858082713800912",
         "0.38290988174835255",
         "3851.3380831429427"
        ],
        [
         "min",
         "0.0",
         "1.0",
         "1.0",
         "0.0",
         "0.0",
         "0.0",
         "0.0",
         "0.0"
        ],
        [
         "25%",
         "178075.75",
         "280.0",
         "2.0",
         "405.0",
         "1.0",
         "0.0",
         "0.0",
         "3731.0"
        ],
        [
         "50%",
         "355948.5",
         "558.0",
         "4.0",
         "609.0",
         "1.0",
         "0.0",
         "0.0",
         "5746.0"
        ],
        [
         "75%",
         "533959.25",
         "837.0",
         "6.0",
         "838.0",
         "1.0",
         "1.0",
         "0.0",
         "7860.0"
        ],
        [
         "max",
         "712044.0",
         "1115.0",
         "7.0",
         "5458.0",
         "1.0",
         "1.0",
         "1.0",
         "41551.0"
        ]
       ],
       "shape": {
        "columns": 8,
        "rows": 8
       }
      },
      "text/html": [
       "<div>\n",
       "<style scoped>\n",
       "    .dataframe tbody tr th:only-of-type {\n",
       "        vertical-align: middle;\n",
       "    }\n",
       "\n",
       "    .dataframe tbody tr th {\n",
       "        vertical-align: top;\n",
       "    }\n",
       "\n",
       "    .dataframe thead th {\n",
       "        text-align: right;\n",
       "    }\n",
       "</style>\n",
       "<table border=\"1\" class=\"dataframe\">\n",
       "  <thead>\n",
       "    <tr style=\"text-align: right;\">\n",
       "      <th></th>\n",
       "      <th>Unnamed: 0</th>\n",
       "      <th>store_ID</th>\n",
       "      <th>day_of_week</th>\n",
       "      <th>nb_customers_on_day</th>\n",
       "      <th>open</th>\n",
       "      <th>promotion</th>\n",
       "      <th>school_holiday</th>\n",
       "      <th>sales</th>\n",
       "    </tr>\n",
       "  </thead>\n",
       "  <tbody>\n",
       "    <tr>\n",
       "      <th>count</th>\n",
       "      <td>640840.000000</td>\n",
       "      <td>640840.000000</td>\n",
       "      <td>640840.000000</td>\n",
       "      <td>640840.000000</td>\n",
       "      <td>640840.000000</td>\n",
       "      <td>640840.000000</td>\n",
       "      <td>640840.000000</td>\n",
       "      <td>640840.000000</td>\n",
       "    </tr>\n",
       "    <tr>\n",
       "      <th>mean</th>\n",
       "      <td>355990.675084</td>\n",
       "      <td>558.211348</td>\n",
       "      <td>4.000189</td>\n",
       "      <td>633.398577</td>\n",
       "      <td>0.830185</td>\n",
       "      <td>0.381718</td>\n",
       "      <td>0.178472</td>\n",
       "      <td>5777.469011</td>\n",
       "    </tr>\n",
       "    <tr>\n",
       "      <th>std</th>\n",
       "      <td>205536.290268</td>\n",
       "      <td>321.878521</td>\n",
       "      <td>1.996478</td>\n",
       "      <td>464.094416</td>\n",
       "      <td>0.375470</td>\n",
       "      <td>0.485808</td>\n",
       "      <td>0.382910</td>\n",
       "      <td>3851.338083</td>\n",
       "    </tr>\n",
       "    <tr>\n",
       "      <th>min</th>\n",
       "      <td>0.000000</td>\n",
       "      <td>1.000000</td>\n",
       "      <td>1.000000</td>\n",
       "      <td>0.000000</td>\n",
       "      <td>0.000000</td>\n",
       "      <td>0.000000</td>\n",
       "      <td>0.000000</td>\n",
       "      <td>0.000000</td>\n",
       "    </tr>\n",
       "    <tr>\n",
       "      <th>25%</th>\n",
       "      <td>178075.750000</td>\n",
       "      <td>280.000000</td>\n",
       "      <td>2.000000</td>\n",
       "      <td>405.000000</td>\n",
       "      <td>1.000000</td>\n",
       "      <td>0.000000</td>\n",
       "      <td>0.000000</td>\n",
       "      <td>3731.000000</td>\n",
       "    </tr>\n",
       "    <tr>\n",
       "      <th>50%</th>\n",
       "      <td>355948.500000</td>\n",
       "      <td>558.000000</td>\n",
       "      <td>4.000000</td>\n",
       "      <td>609.000000</td>\n",
       "      <td>1.000000</td>\n",
       "      <td>0.000000</td>\n",
       "      <td>0.000000</td>\n",
       "      <td>5746.000000</td>\n",
       "    </tr>\n",
       "    <tr>\n",
       "      <th>75%</th>\n",
       "      <td>533959.250000</td>\n",
       "      <td>837.000000</td>\n",
       "      <td>6.000000</td>\n",
       "      <td>838.000000</td>\n",
       "      <td>1.000000</td>\n",
       "      <td>1.000000</td>\n",
       "      <td>0.000000</td>\n",
       "      <td>7860.000000</td>\n",
       "    </tr>\n",
       "    <tr>\n",
       "      <th>max</th>\n",
       "      <td>712044.000000</td>\n",
       "      <td>1115.000000</td>\n",
       "      <td>7.000000</td>\n",
       "      <td>5458.000000</td>\n",
       "      <td>1.000000</td>\n",
       "      <td>1.000000</td>\n",
       "      <td>1.000000</td>\n",
       "      <td>41551.000000</td>\n",
       "    </tr>\n",
       "  </tbody>\n",
       "</table>\n",
       "</div>"
      ],
      "text/plain": [
       "          Unnamed: 0       store_ID    day_of_week  nb_customers_on_day  \\\n",
       "count  640840.000000  640840.000000  640840.000000        640840.000000   \n",
       "mean   355990.675084     558.211348       4.000189           633.398577   \n",
       "std    205536.290268     321.878521       1.996478           464.094416   \n",
       "min         0.000000       1.000000       1.000000             0.000000   \n",
       "25%    178075.750000     280.000000       2.000000           405.000000   \n",
       "50%    355948.500000     558.000000       4.000000           609.000000   \n",
       "75%    533959.250000     837.000000       6.000000           838.000000   \n",
       "max    712044.000000    1115.000000       7.000000          5458.000000   \n",
       "\n",
       "                open      promotion  school_holiday          sales  \n",
       "count  640840.000000  640840.000000   640840.000000  640840.000000  \n",
       "mean        0.830185       0.381718        0.178472    5777.469011  \n",
       "std         0.375470       0.485808        0.382910    3851.338083  \n",
       "min         0.000000       0.000000        0.000000       0.000000  \n",
       "25%         1.000000       0.000000        0.000000    3731.000000  \n",
       "50%         1.000000       0.000000        0.000000    5746.000000  \n",
       "75%         1.000000       1.000000        0.000000    7860.000000  \n",
       "max         1.000000       1.000000        1.000000   41551.000000  "
      ]
     },
     "execution_count": 6,
     "metadata": {},
     "output_type": "execute_result"
    }
   ],
   "source": [
    "import pandas as pd\n",
    "df = pd.read_csv(\"sales.csv\")\n",
    "df.info()\n",
    "df.describe()\n",
    " "
   ]
  },
  {
   "cell_type": "code",
   "execution_count": 7,
   "metadata": {},
   "outputs": [
    {
     "name": "stdout",
     "output_type": "stream",
     "text": [
      "<class 'pandas.core.frame.DataFrame'>\n",
      "RangeIndex: 640840 entries, 0 to 640839\n",
      "Data columns (total 13 columns):\n",
      " #   Column               Non-Null Count   Dtype         \n",
      "---  ------               --------------   -----         \n",
      " 0   Unnamed: 0           640840 non-null  int64         \n",
      " 1   store_ID             640840 non-null  int64         \n",
      " 2   day_of_week          640840 non-null  int64         \n",
      " 3   date                 640840 non-null  datetime64[ns]\n",
      " 4   nb_customers_on_day  640840 non-null  int64         \n",
      " 5   open                 640840 non-null  int64         \n",
      " 6   promotion            640840 non-null  int64         \n",
      " 7   state_holiday        640840 non-null  object        \n",
      " 8   school_holiday       640840 non-null  int64         \n",
      " 9   sales                640840 non-null  int64         \n",
      " 10  month                640840 non-null  int32         \n",
      " 11  year                 640840 non-null  int32         \n",
      " 12  is_weekend           640840 non-null  int64         \n",
      "dtypes: datetime64[ns](1), int32(2), int64(9), object(1)\n",
      "memory usage: 58.7+ MB\n"
     ]
    }
   ],
   "source": [
    "df['date'] = pd.to_datetime(df['date'])\n",
    "\n",
    "# Example feature engineering:\n",
    "df['month'] = df['date'].dt.month\n",
    "df['year'] = df['date'].dt.year\n",
    "df['is_weekend'] = df['day_of_week'].isin([6, 7]).astype(int)\n",
    "\n",
    "#df.describe()\n",
    "df.info()\n"
   ]
  },
  {
   "cell_type": "code",
   "execution_count": 8,
   "metadata": {},
   "outputs": [],
   "source": [
    "from sklearn.model_selection import train_test_split\n",
    "\n",
    "X = df.drop(columns=['sales'])\n",
    "y = df['sales']\n",
    "\n",
    "X_train, X_val, y_train, y_val = train_test_split(X, y, test_size=0.2, random_state=42)\n"
   ]
  },
  {
   "cell_type": "code",
   "execution_count": 9,
   "metadata": {},
   "outputs": [],
   "source": [
    "\n",
    "# Drop 'date' from both sets because it's not directly useful as a raw feature in most machine learning models. \n",
    "X_train_prep = X_train.drop('date', axis=1)\n",
    "X_val_prep = X_val.drop('date', axis=1)\n",
    "\n",
    "# Sample 50,000 rows from the training set\n",
    "X_sample = X_train_prep.sample(n=50000, random_state=42)\n",
    "y_sample = y_train.loc[X_sample.index]\n"
   ]
  },
  {
   "cell_type": "code",
   "execution_count": 12,
   "metadata": {},
   "outputs": [],
   "source": [
    "# One-hot encode the state_holiday column\n",
    "from sklearn.preprocessing import OneHotEncoder\n",
    "from sklearn.ensemble import RandomForestRegressor\n",
    "import pandas as pd\n",
    "\n",
    "# Create and fit encoder\n",
    "encoder = OneHotEncoder(sparse_output=False)\n",
    "encoder.fit(X_sample[['state_holiday']])\n",
    "\n",
    "# Transform training data\n",
    "state_holiday_encoded = encoder.transform(X_sample[['state_holiday']])\n",
    "state_holiday_cols = encoder.get_feature_names_out(['state_holiday'])\n",
    "state_holiday_df = pd.DataFrame(state_holiday_encoded, columns=state_holiday_cols, index=X_sample.index)\n",
    "\n",
    "# Drop original column and add encoded columns\n",
    "X_sample_encoded = X_sample.drop('state_holiday', axis=1).join(state_holiday_df)\n",
    "\n",
    "# Similarly transform validation data\n",
    "val_state_holiday_encoded = encoder.transform(X_val_prep[['state_holiday']])\n",
    "val_state_holiday_df = pd.DataFrame(\n",
    "    val_state_holiday_encoded, \n",
    "    columns=state_holiday_cols, \n",
    "    index=X_val_prep.index\n",
    ")\n",
    "X_val_encoded = X_val_prep.drop('state_holiday', axis=1).join(val_state_holiday_df)\n",
    "\n",
    "# Train model on the encoded sample\n",
    "model = RandomForestRegressor(n_estimators=100, random_state=42)\n"
   ]
  },
  {
   "cell_type": "code",
   "execution_count": 13,
   "metadata": {},
   "outputs": [
    {
     "name": "stdout",
     "output_type": "stream",
     "text": [
      "Validation R² Score (sample-trained model): 0.9000239256974296\n",
      "\n",
      "Top 10 most important features:\n",
      "                Feature  Importance\n",
      "3   nb_customers_on_day    0.869005\n",
      "1              store_ID    0.046771\n",
      "0            Unnamed: 0    0.025064\n",
      "5             promotion    0.022040\n",
      "7                 month    0.015496\n",
      "2           day_of_week    0.013198\n",
      "8                  year    0.005170\n",
      "6        school_holiday    0.002340\n",
      "9            is_weekend    0.000776\n",
      "10      state_holiday_0    0.000078\n"
     ]
    }
   ],
   "source": [
    "\n",
    "# Train the model with sample data\n",
    "model.fit(X_sample_encoded, y_sample)\n",
    "\n",
    "# Predict using the encoded validation data\n",
    "from sklearn.metrics import r2_score\n",
    "y_pred = model.predict(X_val_encoded)\n",
    "r2 = r2_score(y_val, y_pred)\n",
    "print(\"Validation R² Score (sample-trained model):\", r2)\n",
    "\n",
    "\n",
    "feature_importance = pd.DataFrame({\n",
    "    'Feature': X_sample_encoded.columns,\n",
    "    'Importance': model.feature_importances_\n",
    "}).sort_values('Importance', ascending=False)\n",
    "print(\"\\nTop 10 most important features:\")\n",
    "print(feature_importance.head(10))"
   ]
  },
  {
   "cell_type": "code",
   "execution_count": 6,
   "metadata": {},
   "outputs": [],
   "source": [
    "with open(\"r2-RF.txt\", \"w\") as f:\n",
    "    f.write(str(r2))\n"
   ]
  }
 ],
 "metadata": {
  "kernelspec": {
   "display_name": "base",
   "language": "python",
   "name": "python3"
  },
  "language_info": {
   "codemirror_mode": {
    "name": "ipython",
    "version": 3
   },
   "file_extension": ".py",
   "mimetype": "text/x-python",
   "name": "python",
   "nbconvert_exporter": "python",
   "pygments_lexer": "ipython3",
   "version": "3.12.7"
  }
 },
 "nbformat": 4,
 "nbformat_minor": 2
}
